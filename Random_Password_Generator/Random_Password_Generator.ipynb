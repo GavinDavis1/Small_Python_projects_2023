{
 "cells": [
  {
   "cell_type": "code",
   "execution_count": 10,
   "id": "fe6729df",
   "metadata": {},
   "outputs": [
    {
     "name": "stdout",
     "output_type": "stream",
     "text": [
      "Welcome to the PyPassword Generator!\n",
      "How many letters would you like in your password?\n",
      "4\n",
      "How many symbols would you like?\n",
      "2\n",
      "How many numbers would you like?\n",
      "2\n",
      "['x', 'F', 'v', 'g', '7', '4', '!', '!']\n",
      "['g', '7', '!', '4', 'v', '!', 'F', 'x']\n",
      "Your password is: g7!4v!Fx\n"
     ]
    }
   ],
   "source": [
    "#Password Generator Project\n",
    "import random\n",
    "letters = ['a', 'b', 'c', 'd', 'e', 'f', 'g', 'h', 'i', 'j', 'k', 'l', 'm', 'n', 'o', 'p', 'q', 'r', 's', 't', 'u', 'v', 'w', 'x', 'y', 'z', 'A', 'B', 'C', 'D', 'E', 'F', 'G', 'H', 'I', 'J', 'K', 'L', 'M', 'N', 'O', 'P', 'Q', 'R', 'S', 'T', 'U', 'V', 'W', 'X', 'Y', 'Z']\n",
    "numbers = ['0', '1', '2', '3', '4', '5', '6', '7', '8', '9']\n",
    "symbols = ['!', '#', '$', '%', '&', '(', ')', '*', '+']\n",
    "\n",
    "print(\"Welcome to the PyPassword Generator!\")\n",
    "nr_letters= int(input(\"How many letters would you like in your password?\\n\")) \n",
    "nr_symbols = int(input(f\"How many symbols would you like?\\n\"))\n",
    "nr_numbers = int(input(f\"How many numbers would you like?\\n\"))\n",
    "\n",
    "password = []\n",
    "for char in range(1, nr_letters + 1):\n",
    "  random_char = random.choice(letters)\n",
    "  password += random_char\n",
    "\n",
    "for char in range(1, nr_numbers + 1):\n",
    "  random_char = random.choice(numbers)\n",
    "  password += random_char\n",
    "\n",
    "for char in range(1, nr_symbols + 1):\n",
    "  random_char = random.choice(symbols)\n",
    "  password += random_char\n",
    "\n",
    "print(password)\n",
    "random.shuffle(password)\n",
    "print(password)\n",
    "\n",
    "password_final = \"\"\n",
    "for char in password:\n",
    "  password_final += char\n",
    "\n",
    "print(f\"Your password is: {password_final}\")"
   ]
  },
  {
   "cell_type": "code",
   "execution_count": null,
   "id": "4f865b6e",
   "metadata": {},
   "outputs": [],
   "source": []
  },
  {
   "cell_type": "code",
   "execution_count": null,
   "id": "a53d9223",
   "metadata": {},
   "outputs": [],
   "source": []
  }
 ],
 "metadata": {
  "kernelspec": {
   "display_name": "Python 3",
   "language": "python",
   "name": "python3"
  },
  "language_info": {
   "codemirror_mode": {
    "name": "ipython",
    "version": 3
   },
   "file_extension": ".py",
   "mimetype": "text/x-python",
   "name": "python",
   "nbconvert_exporter": "python",
   "pygments_lexer": "ipython3",
   "version": "3.8.8"
  }
 },
 "nbformat": 4,
 "nbformat_minor": 5
}
